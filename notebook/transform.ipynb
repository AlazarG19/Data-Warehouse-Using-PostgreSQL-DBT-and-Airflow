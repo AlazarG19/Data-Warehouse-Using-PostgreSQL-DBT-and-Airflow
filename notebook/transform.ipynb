{
 "cells": [
  {
   "cell_type": "code",
   "execution_count": 2,
   "metadata": {},
   "outputs": [
    {
     "data": {
      "text/plain": [
       "100000000"
      ]
     },
     "execution_count": 2,
     "metadata": {},
     "output_type": "execute_result"
    }
   ],
   "source": [
    "import csv\n",
    "import pandas as pd\n",
    "# Increase the maximum field size limit\n",
    "csv.field_size_limit(10**8)"
   ]
  },
  {
   "cell_type": "code",
   "execution_count": 3,
   "metadata": {},
   "outputs": [],
   "source": [
    "def split_list_into_parts(input_list, part_size):\n",
    "    return [input_list[i:i + part_size] for i in range(0, len(input_list), part_size)]\n"
   ]
  },
  {
   "cell_type": "code",
   "execution_count": null,
   "metadata": {},
   "outputs": [],
   "source": [
    "# Specify the path to your CSV file\n",
    "file_path = '../data/20181024_d1_0830_0900.csv'\n",
    "\n",
    "# Open the CSV file\n",
    "with open(file_path, newline='') as csvfile:\n",
    "    csv_reader = csv.reader(csvfile)\n",
    "    \n",
    "    i = 0\n",
    "    # Read each row one by one\n",
    "    for line_number, row in enumerate(csv_reader):\n",
    "        # Process individual lines as needed\n",
    "        if (i == 0):\n",
    "            # create the column names for the fact and dimensional table\n",
    "            columns = row[0]\n",
    "            dimension_columns = [columns.split(\";\")[0]] + columns.split(\";\")[4:]\n",
    "            \n",
    "            # create fact and dimensional table\n",
    "            fact_df = pd.DataFrame(columns=columns.split(\";\")[:4])\n",
    "            dimension_df = pd.DataFrame(columns=dimension_columns)          \n",
    "        else:\n",
    "            data = [elt  for elt in row[0].split(\";\") if elt != \" \"]\n",
    "            track_id = data[0]\n",
    "            \n",
    "            fact_df.loc[len(fact_df)] = data[:4]\n",
    "            \n",
    "            # Split the list into parts containing 6 elements each\n",
    "            split_parts = split_list_into_parts(data[4:], 6)\n",
    "\n",
    "            for dimensions in split_parts:\n",
    "                dimensions.insert(0, track_id)\n",
    "                dimension_df.loc[len(dimension_df)] = dimensions\n",
    "        i+=1        "
   ]
  },
  {
   "cell_type": "code",
   "execution_count": 7,
   "metadata": {},
   "outputs": [
    {
     "name": "stdout",
     "output_type": "stream",
     "text": [
      "(0, 4)\n",
      "(0, 818)\n"
     ]
    }
   ],
   "source": [
    "print(fact_df.shape)\n",
    "print(dimension_df.shape)"
   ]
  },
  {
   "cell_type": "code",
   "execution_count": 8,
   "metadata": {},
   "outputs": [
    {
     "data": {
      "text/html": [
       "<div>\n",
       "<style scoped>\n",
       "    .dataframe tbody tr th:only-of-type {\n",
       "        vertical-align: middle;\n",
       "    }\n",
       "\n",
       "    .dataframe tbody tr th {\n",
       "        vertical-align: top;\n",
       "    }\n",
       "\n",
       "    .dataframe thead th {\n",
       "        text-align: right;\n",
       "    }\n",
       "</style>\n",
       "<table border=\"1\" class=\"dataframe\">\n",
       "  <thead>\n",
       "    <tr style=\"text-align: right;\">\n",
       "      <th></th>\n",
       "      <th>922</th>\n",
       "      <th>Car</th>\n",
       "      <th>35.00</th>\n",
       "      <th>23.335533</th>\n",
       "    </tr>\n",
       "  </thead>\n",
       "  <tbody>\n",
       "  </tbody>\n",
       "</table>\n",
       "</div>"
      ],
      "text/plain": [
       "Empty DataFrame\n",
       "Columns: [922,  Car,  35.00,  23.335533]\n",
       "Index: []"
      ]
     },
     "execution_count": 8,
     "metadata": {},
     "output_type": "execute_result"
    }
   ],
   "source": [
    "fact_df"
   ]
  }
 ],
 "metadata": {
  "kernelspec": {
   "display_name": "Python 3",
   "language": "python",
   "name": "python3"
  },
  "language_info": {
   "codemirror_mode": {
    "name": "ipython",
    "version": 3
   },
   "file_extension": ".py",
   "mimetype": "text/x-python",
   "name": "python",
   "nbconvert_exporter": "python",
   "pygments_lexer": "ipython3",
   "version": "3.13.0"
  }
 },
 "nbformat": 4,
 "nbformat_minor": 2
}
